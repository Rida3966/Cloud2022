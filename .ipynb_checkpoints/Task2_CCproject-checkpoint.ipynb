{
 "cells": [
  {
   "cell_type": "code",
   "execution_count": 17,
   "id": "24174101",
   "metadata": {},
   "outputs": [],
   "source": [
    "import multiprocessing as mp"
   ]
  },
  {
   "cell_type": "code",
   "execution_count": 12,
   "id": "c8ee2aa0",
   "metadata": {},
   "outputs": [],
   "source": [
    "def mapper(x):\n",
    "    cols = x.split('/t')\n",
    "    if re.match('^//d{1,9}$', cols[2]):\n",
    "        return(cols[1], int(cols[2]))\n",
    "    "
   ]
  },
  {
   "cell_type": "code",
   "execution_count": 13,
   "id": "a5de3053",
   "metadata": {},
   "outputs": [],
   "source": [
    "def reducer(y):\n",
    "    count = 0\n",
    "    max_count = 0\n",
    "    passenger, flight = y\n",
    "    while (passenger == passenger):\n",
    "        count += flight\n",
    "        if (count > max_count):\n",
    "            max_count = count\n",
    " "
   ]
  },
  {
   "cell_type": "code",
   "execution_count": 15,
   "id": "a0d25da5",
   "metadata": {},
   "outputs": [],
   "source": [
    "def shuffler(map_out):\n",
    "    data = {}\n",
    "    map_out = list(filter(None, map_out))\n",
    "    for k, v in map_out:\n",
    "        if k not in data:\n",
    "            data[k] = [v]\n",
    "        else:\n",
    "            data[k].append(v)\n",
    "            \n",
    "        return data\n",
    "    "
   ]
  },
  {
   "cell_type": "code",
   "execution_count": null,
   "id": "82fd2f10",
   "metadata": {},
   "outputs": [],
   "source": [
    "\n",
    "mapper_in = []\n",
    "\n",
    "if __name__ == '__main__':\n",
    "    with open('Passenger_data.csv', encoding= 'utf8') as f:\n",
    "        mapper_in = f.read().splitlines()\n",
    "        \n",
    "    with mp.Pool(processes=mp.cpu_count()) as pool:\n",
    "        mapper_out = pool.map(mapper, mapper_in, chunksize=int(len(mapper_in)/mp.cpu_count()))\n",
    "        reducer_in = shuffler(mapper_out)\n",
    "        reducer_out = pool.map(reducer, reducer_in.items(),chunksize=int(len(reducer_in.keys())/mp.cpu_count()))\n",
    "        print(reducer_out)\n"
   ]
  },
  {
   "cell_type": "code",
   "execution_count": null,
   "id": "db77c46f",
   "metadata": {},
   "outputs": [],
   "source": []
  }
 ],
 "metadata": {
  "kernelspec": {
   "display_name": "Python 3",
   "language": "python",
   "name": "python3"
  },
  "language_info": {
   "codemirror_mode": {
    "name": "ipython",
    "version": 3
   },
   "file_extension": ".py",
   "mimetype": "text/x-python",
   "name": "python",
   "nbconvert_exporter": "python",
   "pygments_lexer": "ipython3",
   "version": "3.8.8"
  }
 },
 "nbformat": 4,
 "nbformat_minor": 5
}
